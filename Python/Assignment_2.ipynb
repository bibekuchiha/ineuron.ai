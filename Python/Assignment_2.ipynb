{
  "nbformat": 4,
  "nbformat_minor": 0,
  "metadata": {
    "colab": {
      "name": "Assignment 2.ipynb",
      "provenance": [],
      "authorship_tag": "ABX9TyM2cC2NqT9cGY65ogpThZFI",
      "include_colab_link": true
    },
    "kernelspec": {
      "name": "python3",
      "display_name": "Python 3"
    }
  },
  "cells": [
    {
      "cell_type": "markdown",
      "metadata": {
        "id": "view-in-github",
        "colab_type": "text"
      },
      "source": [
        "<a href=\"https://colab.research.google.com/github/bibekuchiha/ineuron.ai/blob/master/Python/Assignment_2.ipynb\" target=\"_parent\"><img src=\"https://colab.research.google.com/assets/colab-badge.svg\" alt=\"Open In Colab\"/></a>"
      ]
    },
    {
      "cell_type": "markdown",
      "metadata": {
        "id": "vuldxFCwDNVn",
        "colab_type": "text"
      },
      "source": [
        "Q.1 Write a Python Program to implement your own myreduce() function which works exactly like Python's built-in function reduce()"
      ]
    },
    {
      "cell_type": "code",
      "metadata": {
        "id": "XPEXZbCTDGBt",
        "colab_type": "code",
        "colab": {
          "base_uri": "https://localhost:8080/",
          "height": 34
        },
        "outputId": "d0e6f64c-f304-40bf-af57-09416d3a35fd"
      },
      "source": [
        "def myreduce(function, inputs):\n",
        "    first = inputs[0]\n",
        "    for i in inputs[1:]:\n",
        "        first = function(first, i)\n",
        "    return first\n",
        "\n",
        "def sum(x1, x2):\n",
        "    return x1+x2\n",
        "\n",
        "print(myreduce(sum, [1,2,3]))\n",
        "\n"
      ],
      "execution_count": 1,
      "outputs": [
        {
          "output_type": "stream",
          "text": [
            "6\n"
          ],
          "name": "stdout"
        }
      ]
    },
    {
      "cell_type": "markdown",
      "metadata": {
        "id": "lh2VpRb4DLtf",
        "colab_type": "text"
      },
      "source": [
        "\n",
        "\n",
        "Q.2 Write a Python program to implement your own myfilter() function which works exactly like Python's built-in function filter()\n"
      ]
    },
    {
      "cell_type": "code",
      "metadata": {
        "id": "olRSe0B3DZoa",
        "colab_type": "code",
        "colab": {
          "base_uri": "https://localhost:8080/",
          "height": 34
        },
        "outputId": "b5931e1d-7bf6-4a72-a4af-08cac64d2dc9"
      },
      "source": [
        "def myfilter(function, inputs):\n",
        "    if function is None:\n",
        "        return [item for item in inputs if item]\n",
        "    else:\n",
        "        return [item for item in inputs if function(item)]\n",
        "        \n",
        "def even(x1):\n",
        "    return x1%2==0\n",
        "\n",
        "print(myfilter(even,[1,2,3,4,5,6,7]))"
      ],
      "execution_count": 2,
      "outputs": [
        {
          "output_type": "stream",
          "text": [
            "[2, 4, 6]\n"
          ],
          "name": "stdout"
        }
      ]
    },
    {
      "cell_type": "markdown",
      "metadata": {
        "id": "ez9PXMdVDiYr",
        "colab_type": "text"
      },
      "source": [
        "\n",
        "\n",
        "Q.3 Implement List comprehensions to produce the following lists. Write List comprehensions to produce the following Lists\n",
        "\n",
        "['A', 'C', 'A', 'D', 'G', 'I', ’L’, ‘ D’]\n",
        "\n",
        "['x', 'xx', 'xxx', 'xxxx', 'y', 'yy', 'yyy', 'yyyy', 'z', 'zz', 'zzz', 'zzzz']\n",
        "\n",
        "['x', 'y', 'z', 'xx', 'yy', 'zz', 'xx', 'yy', 'zz', 'xxxx', 'yyyy', 'zzzz']\n",
        "\n",
        "[[2], [3], [4], [3], [4], [5], [4], [5], [6]]\n",
        "\n",
        "[[2, 3, 4, 5], [3, 4, 5, 6], [4, 5, 6, 7], [5, 6, 7, 8]]\n",
        "\n",
        "[(1, 1), (2, 1), (3, 1), (1, 2), (2, 2), (3, 2), (1, 3), (2, 3), (3, 3)]\n",
        "\n"
      ]
    },
    {
      "cell_type": "code",
      "metadata": {
        "id": "wJWdYYcDDeVx",
        "colab_type": "code",
        "colab": {
          "base_uri": "https://localhost:8080/",
          "height": 121
        },
        "outputId": "1d123897-789e-4ee4-f671-ab23759af6aa"
      },
      "source": [
        "input1 =\"ACADGILD\"\n",
        "output1 = list(input1)\n",
        "print(output1)\n",
        "input2 = ['x', 'y', 'z']\n",
        "output2 = [(a * b) for a in input2 for b in range(1,5)]\n",
        "print(output2)\n",
        "a=0\n",
        "b=0\n",
        "output3 = [(a * b) for b in range(1,5) for a in input2]\n",
        "print(output3)\n",
        "a=0\n",
        "b=0\n",
        "input4 = [2,3,4,5,6]\n",
        "output4 = [[input4[b+a]] for a in range(0,len(input4)-2) for b in range(0,3)]\n",
        "print(output4)\n",
        "a=0\n",
        "b=0\n",
        "input5 = [2,3,4,5,6,7,8]\n",
        "output5 = [input5[a:a+4] for a in range(0,len(input5)-3)]\n",
        "print(output5)\n",
        "a=0\n",
        "b=0\n",
        "input6 = [1,2,3]\n",
        "output6 = [(b,a) for a in input6 for b in input6]\n",
        "print(output6)"
      ],
      "execution_count": 3,
      "outputs": [
        {
          "output_type": "stream",
          "text": [
            "['A', 'C', 'A', 'D', 'G', 'I', 'L', 'D']\n",
            "['x', 'xx', 'xxx', 'xxxx', 'y', 'yy', 'yyy', 'yyyy', 'z', 'zz', 'zzz', 'zzzz']\n",
            "['x', 'y', 'z', 'xx', 'yy', 'zz', 'xxx', 'yyy', 'zzz', 'xxxx', 'yyyy', 'zzzz']\n",
            "[[2], [3], [4], [3], [4], [5], [4], [5], [6]]\n",
            "[[2, 3, 4, 5], [3, 4, 5, 6], [4, 5, 6, 7], [5, 6, 7, 8]]\n",
            "[(1, 1), (2, 1), (3, 1), (1, 2), (2, 2), (3, 2), (1, 3), (2, 3), (3, 3)]\n"
          ],
          "name": "stdout"
        }
      ]
    },
    {
      "cell_type": "markdown",
      "metadata": {
        "id": "Ly8KvUYVDpPf",
        "colab_type": "text"
      },
      "source": [
        "\n",
        "\n",
        "Q.4 Implement a function longestWord() that takes a list of words and returns the longest one.\n"
      ]
    },
    {
      "cell_type": "code",
      "metadata": {
        "id": "FpRlTkNfDmcs",
        "colab_type": "code",
        "colab": {
          "base_uri": "https://localhost:8080/",
          "height": 34
        },
        "outputId": "85ff31fe-9b77-4b16-b970-e0f934996c60"
      },
      "source": [
        "def longestWord(array=None):\n",
        "    max_len_word = \"\" # empty string to save result\n",
        "    for word in array:\n",
        "        if len(word) > len(max_len_word):\n",
        "            max_len_word = word\n",
        "    return max_len_word\n",
        "\n",
        "arr = [\"I\", \"am\", \"David\", \"I\", \"am\", \"an\", \"artificial_intelligence\",\"Machine_learning\" ,\"enthusiasts\" ]\n",
        "result = longestWord(array= arr)\n",
        "print(result)\n",
        "\n"
      ],
      "execution_count": 5,
      "outputs": [
        {
          "output_type": "stream",
          "text": [
            "artificial_intelligence\n"
          ],
          "name": "stdout"
        }
      ]
    },
    {
      "cell_type": "markdown",
      "metadata": {
        "id": "INJ9A1rVD6rM",
        "colab_type": "text"
      },
      "source": [
        "\n",
        "\n",
        "Q.5 Write a Python Program(with class concepts) to find the area of the triangle using the below formula.\n",
        "\n",
        "area = (s(s-a)(s-b)*(s-c)) ** 0.5\n",
        "\n",
        "Function to take the length of the sides of triangle from user should be defined in the parent class and function to calculate the area should be defined in subclass.\n"
      ]
    },
    {
      "cell_type": "code",
      "metadata": {
        "id": "lPZVo0wSDyXS",
        "colab_type": "code",
        "colab": {
          "base_uri": "https://localhost:8080/",
          "height": 34
        },
        "outputId": "505e3001-0761-4848-85c6-7025787608e7"
      },
      "source": [
        "import math\n",
        "\n",
        "class Triangle:\n",
        "    a=0\n",
        "    b=0\n",
        "    c=0\n",
        "    s=0\n",
        "    \n",
        "    def __init__(self, a, b, c):\n",
        "        self.a = a\n",
        "        self.b = b\n",
        "        self.c = c\n",
        "        self.s = (a+b+c)/2\n",
        "        \n",
        "    def area(self):\n",
        "        return math.sqrt(self.s*(self.s-self.a)*(self.s-self.b)*(self.s-self.c))\n",
        "    \n",
        "triangle = Triangle(3,4,5)\n",
        "print(triangle.area())"
      ],
      "execution_count": 6,
      "outputs": [
        {
          "output_type": "stream",
          "text": [
            "6.0\n"
          ],
          "name": "stdout"
        }
      ]
    },
    {
      "cell_type": "markdown",
      "metadata": {
        "id": "wAG3_bzLEFtI",
        "colab_type": "text"
      },
      "source": [
        "\n",
        "\n",
        "Q.6 Write a function filter_long_words() that takes a list of words and an integer n and returns the list of words that are longer than n.\n"
      ]
    },
    {
      "cell_type": "code",
      "metadata": {
        "id": "a6jnKvjQEAQt",
        "colab_type": "code",
        "colab": {
          "base_uri": "https://localhost:8080/",
          "height": 52
        },
        "outputId": "c014415c-740a-4c01-b489-07fba8d317fc"
      },
      "source": [
        "def filter_long_words(N=None, array = None):\n",
        "    results = [] # init empty array for results\n",
        "    for i in array:\n",
        "        if len(i) > N:\n",
        "            results.append(i)\n",
        "    return results\n",
        "\n",
        "arr = ['hell-o-world', 'life', 'is', 'beautiful']\n",
        "n = 5\n",
        "result = filter_long_words(N = n, array = arr)\n",
        "print(f\"longest words are = \\n{result}\")"
      ],
      "execution_count": 7,
      "outputs": [
        {
          "output_type": "stream",
          "text": [
            "longest words are = \n",
            "['hell-o-world', 'beautiful']\n"
          ],
          "name": "stdout"
        }
      ]
    },
    {
      "cell_type": "markdown",
      "metadata": {
        "id": "E7_mEHcqEMfO",
        "colab_type": "text"
      },
      "source": [
        "Q.7 Write a Python program using function concept that maps list of words into a list of integers representing the lengths of the corresponding words."
      ]
    },
    {
      "cell_type": "code",
      "metadata": {
        "id": "wDGtp644EKBM",
        "colab_type": "code",
        "colab": {
          "base_uri": "https://localhost:8080/",
          "height": 52
        },
        "outputId": "a6314b3b-c4fe-400a-fa41-eb04dbff4d9e"
      },
      "source": [
        "def get_length_of_words(array=None):\n",
        "    return [len(word) for word in array]\n",
        "\n",
        "arr = [ \"ab\", \"cde\", \"erty\"]\n",
        "result = get_length_of_words(arr)\n",
        "print(f\"output = {result}\\n\")\n"
      ],
      "execution_count": 8,
      "outputs": [
        {
          "output_type": "stream",
          "text": [
            "output = [2, 3, 4]\n",
            "\n"
          ],
          "name": "stdout"
        }
      ]
    },
    {
      "cell_type": "markdown",
      "metadata": {
        "id": "tkq2jKTnESBA",
        "colab_type": "text"
      },
      "source": [
        "\n",
        "\n",
        "Q.8 Write a Python function which takes a character (i.e. a string of length 1) and returns True if it is a vowel, False otherwise.\n"
      ]
    },
    {
      "cell_type": "code",
      "metadata": {
        "id": "B4YR7MkzEO-A",
        "colab_type": "code",
        "colab": {
          "base_uri": "https://localhost:8080/",
          "height": 52
        },
        "outputId": "19857a40-32c0-49a1-a017-5f0b402cbf82"
      },
      "source": [
        "def is_vowel(char):\n",
        "    return True if len(char)==1 and char in ['a','e','i','o', 'u'] else False\n",
        "\n",
        "print(is_vowel('u'))\n",
        "print(is_vowel('b'))\n"
      ],
      "execution_count": 9,
      "outputs": [
        {
          "output_type": "stream",
          "text": [
            "True\n",
            "False\n"
          ],
          "name": "stdout"
        }
      ]
    },
    {
      "cell_type": "code",
      "metadata": {
        "id": "5KmHzoMyEVCh",
        "colab_type": "code",
        "colab": {}
      },
      "source": [
        ""
      ],
      "execution_count": null,
      "outputs": []
    }
  ]
}