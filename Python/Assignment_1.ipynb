{
  "nbformat": 4,
  "nbformat_minor": 0,
  "metadata": {
    "kernelspec": {
      "display_name": "Python 3",
      "language": "python",
      "name": "python3"
    },
    "language_info": {
      "codemirror_mode": {
        "name": "ipython",
        "version": 3
      },
      "file_extension": ".py",
      "mimetype": "text/x-python",
      "name": "python",
      "nbconvert_exporter": "python",
      "pygments_lexer": "ipython3",
      "version": "3.7.1"
    },
    "colab": {
      "name": "Assignment 1.ipynb",
      "provenance": [],
      "include_colab_link": true
    }
  },
  "cells": [
    {
      "cell_type": "markdown",
      "metadata": {
        "id": "view-in-github",
        "colab_type": "text"
      },
      "source": [
        "<a href=\"https://colab.research.google.com/github/bibekuchiha/ineuron.ai/blob/master/Python/Assignment_1.ipynb\" target=\"_parent\"><img src=\"https://colab.research.google.com/assets/colab-badge.svg\" alt=\"Open In Colab\"/></a>"
      ]
    },
    {
      "cell_type": "markdown",
      "metadata": {
        "id": "rCit_7IE7ztn",
        "colab_type": "text"
      },
      "source": [
        "## Assignment1"
      ]
    },
    {
      "cell_type": "markdown",
      "metadata": {
        "id": "OuWD0yvF9QN4",
        "colab_type": "text"
      },
      "source": [
        "# Task 1\n",
        "2. Write a program which will find all such numbers which are divisible by 7 but are not a multiple of 5,\n",
        "between 2000 and 3200 (both included). \n",
        "The numbers obtained should be printed in a comma-separated sequence on a single line.\n"
      ]
    },
    {
      "cell_type": "code",
      "metadata": {
        "id": "W_q_t8cR7ztu",
        "colab_type": "code",
        "colab": {
          "base_uri": "https://localhost:8080/",
          "height": 54
        },
        "outputId": "3d12b2ca-8c61-416e-9c76-468a624782ab"
      },
      "source": [
        "def getSequence(min_, max_):\n",
        "    for i in range(min_, max_ + 1):\n",
        "        if (i%7==0) and (i%5!=0):\n",
        "            print(i, end=', ')\n",
        "\n",
        "getSequence(2000, 3200)"
      ],
      "execution_count": 6,
      "outputs": [
        {
          "output_type": "stream",
          "text": [
            "2002, 2009, 2016, 2023, 2037, 2044, 2051, 2058, 2072, 2079, 2086, 2093, 2107, 2114, 2121, 2128, 2142, 2149, 2156, 2163, 2177, 2184, 2191, 2198, 2212, 2219, 2226, 2233, 2247, 2254, 2261, 2268, 2282, 2289, 2296, 2303, 2317, 2324, 2331, 2338, 2352, 2359, 2366, 2373, 2387, 2394, 2401, 2408, 2422, 2429, 2436, 2443, 2457, 2464, 2471, 2478, 2492, 2499, 2506, 2513, 2527, 2534, 2541, 2548, 2562, 2569, 2576, 2583, 2597, 2604, 2611, 2618, 2632, 2639, 2646, 2653, 2667, 2674, 2681, 2688, 2702, 2709, 2716, 2723, 2737, 2744, 2751, 2758, 2772, 2779, 2786, 2793, 2807, 2814, 2821, 2828, 2842, 2849, 2856, 2863, 2877, 2884, 2891, 2898, 2912, 2919, 2926, 2933, 2947, 2954, 2961, 2968, 2982, 2989, 2996, 3003, 3017, 3024, 3031, 3038, 3052, 3059, 3066, 3073, 3087, 3094, 3101, 3108, 3122, 3129, 3136, 3143, 3157, 3164, 3171, 3178, 3192, 3199, "
          ],
          "name": "stdout"
        }
      ]
    },
    {
      "cell_type": "markdown",
      "metadata": {
        "id": "weJAtyq39cIQ",
        "colab_type": "text"
      },
      "source": [
        "3. Write a Python program to accept the user's first and\n",
        "last name and then getting them printed in the the reverse order with\n",
        "a space between first name and last name."
      ]
    },
    {
      "cell_type": "code",
      "metadata": {
        "id": "g8M-qrCX7zuD",
        "colab_type": "code",
        "colab": {
          "base_uri": "https://localhost:8080/",
          "height": 69
        },
        "outputId": "2bff5b3b-5e9c-4407-8dd7-170c92297678"
      },
      "source": [
        "first_name = input(\"Write your first Name : \")\n",
        "last_name = input(\"Write your last Name : \")\n",
        "print(\"Hello  \" + last_name + \" \" + first_name)"
      ],
      "execution_count": 7,
      "outputs": [
        {
          "output_type": "stream",
          "text": [
            "Write your first Name : b\n",
            "Write your last Name : a\n",
            "Hello  a b\n"
          ],
          "name": "stdout"
        }
      ]
    },
    {
      "cell_type": "markdown",
      "metadata": {
        "id": "Rd6bREPE94Dh",
        "colab_type": "text"
      },
      "source": [
        "4. Write a Python program to find the volume of a sphere with diameter 12 cm.\n",
        "\n",
        "Formula: V=4/3 * π * r3 "
      ]
    },
    {
      "cell_type": "code",
      "metadata": {
        "id": "q6PaEJIg7zuY",
        "colab_type": "code",
        "colab": {
          "base_uri": "https://localhost:8080/",
          "height": 34
        },
        "outputId": "c703a016-d5b1-47e0-a739-20c2ab93ac2f"
      },
      "source": [
        "import math;\n",
        "diameter = 12;\n",
        "radius = diameter/2\n",
        "print(str((4*math.pi* math.pow(radius,3))/3)+\"cm^3\")"
      ],
      "execution_count": 8,
      "outputs": [
        {
          "output_type": "stream",
          "text": [
            "904.7786842338604cm^3\n"
          ],
          "name": "stdout"
        }
      ]
    },
    {
      "cell_type": "markdown",
      "metadata": {
        "id": "ButuL-2l-EJo",
        "colab_type": "text"
      },
      "source": [
        "# Task 2\n",
        "1. Write a program which accepts a sequence of comma-separated numbers from console and\n",
        "generate a list."
      ]
    },
    {
      "cell_type": "code",
      "metadata": {
        "id": "QcgVv5iy7zuo",
        "colab_type": "code",
        "colab": {
          "base_uri": "https://localhost:8080/",
          "height": 52
        },
        "outputId": "48a6e6ba-27ef-4232-80a2-323622ef3765"
      },
      "source": [
        "def list_generator(data):\n",
        "    temp = data.split(',')\n",
        "    lst = [int(i) for i in temp]\n",
        "    print(lst)\n",
        "\n",
        "data = input('enter data separated by commas: ')\n",
        "list_generator(data)\n",
        "\n"
      ],
      "execution_count": 10,
      "outputs": [
        {
          "output_type": "stream",
          "text": [
            "enter data separated by commas: 12,12,3,3,4,5\n",
            "[12, 12, 3, 3, 4, 5]\n"
          ],
          "name": "stdout"
        }
      ]
    },
    {
      "cell_type": "markdown",
      "metadata": {
        "id": "EW_Uk5ST_vVT",
        "colab_type": "text"
      },
      "source": [
        "2. Create the below pattern using nested for loop in Python.\n"
      ]
    },
    {
      "cell_type": "code",
      "metadata": {
        "id": "PIerH9hU7zu0",
        "colab_type": "code",
        "colab": {
          "base_uri": "https://localhost:8080/",
          "height": 330
        },
        "outputId": "82739cc8-7eb2-4f97-857b-e9c33ec8c205"
      },
      "source": [
        "for i in range(0,9):\n",
        "    if(i <= 4):\n",
        "        for j in range(0,i+1):\n",
        "            print(\"*\", end=\" \")\n",
        "        print(\"\\n\")\n",
        "    else:\n",
        "        for j in range(i,9):\n",
        "            print(\"*\", end=\" \")\n",
        "        print(\"\\n\")"
      ],
      "execution_count": 11,
      "outputs": [
        {
          "output_type": "stream",
          "text": [
            "* \n",
            "\n",
            "* * \n",
            "\n",
            "* * * \n",
            "\n",
            "* * * * \n",
            "\n",
            "* * * * * \n",
            "\n",
            "* * * * \n",
            "\n",
            "* * * \n",
            "\n",
            "* * \n",
            "\n",
            "* \n",
            "\n"
          ],
          "name": "stdout"
        }
      ]
    },
    {
      "cell_type": "markdown",
      "metadata": {
        "id": "jQxhXMo5_52e",
        "colab_type": "text"
      },
      "source": [
        "3. Write a Python program to reverse a word after accepting the input from the user.\n"
      ]
    },
    {
      "cell_type": "code",
      "metadata": {
        "id": "4BOb41f67zvC",
        "colab_type": "code",
        "colab": {
          "base_uri": "https://localhost:8080/",
          "height": 52
        },
        "outputId": "34994978-1b42-4234-943d-8d3afb5334a7"
      },
      "source": [
        "def print_reverse(data):\n",
        "    print(f\"output: {data[::-1]}\")\n",
        "\n",
        "data = input(\"input a word: \")\n",
        "print_reverse(data)\n",
        "\n"
      ],
      "execution_count": 13,
      "outputs": [
        {
          "output_type": "stream",
          "text": [
            "input a word: helo world\n",
            "output: dlrow oleh\n"
          ],
          "name": "stdout"
        }
      ]
    }
  ]
}