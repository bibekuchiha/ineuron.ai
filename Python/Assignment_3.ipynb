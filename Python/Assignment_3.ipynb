{
  "nbformat": 4,
  "nbformat_minor": 0,
  "metadata": {
    "colab": {
      "name": "Assignment 3.ipynb",
      "provenance": [],
      "authorship_tag": "ABX9TyOR8ezMfdwoVTCsU/Wp7BX4",
      "include_colab_link": true
    },
    "kernelspec": {
      "name": "python3",
      "display_name": "Python 3"
    }
  },
  "cells": [
    {
      "cell_type": "markdown",
      "metadata": {
        "id": "view-in-github",
        "colab_type": "text"
      },
      "source": [
        "<a href=\"https://colab.research.google.com/github/bibekuchiha/ineuron.ai/blob/master/Python/Assignment_3.ipynb\" target=\"_parent\"><img src=\"https://colab.research.google.com/assets/colab-badge.svg\" alt=\"Open In Colab\"/></a>"
      ]
    },
    {
      "cell_type": "markdown",
      "metadata": {
        "id": "-koNJGHqFWXW",
        "colab_type": "text"
      },
      "source": [
        "Q.1 Write a function to compute 5/0 and use try/except to catch the exceptions."
      ]
    },
    {
      "cell_type": "code",
      "metadata": {
        "id": "f6Ui1AXnE62a",
        "colab_type": "code",
        "colab": {
          "base_uri": "https://localhost:8080/",
          "height": 34
        },
        "outputId": "b4da5d95-f1c2-4b01-bb36-de5aeb696d01"
      },
      "source": [
        "def try_catch(): \n",
        "    try:\n",
        "        result = 5/0\n",
        "        print(result)\n",
        "    except:\n",
        "        print(\"There was an exception\")\n",
        "        \n",
        "try_catch()\n",
        "\n"
      ],
      "execution_count": 1,
      "outputs": [
        {
          "output_type": "stream",
          "text": [
            "There was an exception\n"
          ],
          "name": "stdout"
        }
      ]
    },
    {
      "cell_type": "markdown",
      "metadata": {
        "id": "MvrSVk2zFgK8",
        "colab_type": "text"
      },
      "source": [
        "Q.2 Implement a Python program to generate all sentences where subject is in [\"Americans\", \"Indians\"] and verb is in [\"Play\", \"watch\"] and the object is in [\"Baseball\",\"cricket\"]."
      ]
    },
    {
      "cell_type": "code",
      "metadata": {
        "id": "Mm13ZF9vFapd",
        "colab_type": "code",
        "colab": {
          "base_uri": "https://localhost:8080/",
          "height": 156
        },
        "outputId": "741a5eca-d5cb-4444-b819-5db03172148c"
      },
      "source": [
        "subjects=[\"Americans\",\"Indians\"]\n",
        "verbs=[\"play\",\"watch\"]\n",
        "objects=[\"Baseball\",\"Cricket\"]\n",
        "\n",
        "for i in subjects:\n",
        "    for j in verbs:\n",
        "        for k in objects:\n",
        "            print(i+\" \"+j+\" \"+k+\".\")\n",
        "\n"
      ],
      "execution_count": 3,
      "outputs": [
        {
          "output_type": "stream",
          "text": [
            "Americans play Baseball.\n",
            "Americans play Cricket.\n",
            "Americans watch Baseball.\n",
            "Americans watch Cricket.\n",
            "Indians play Baseball.\n",
            "Indians play Cricket.\n",
            "Indians watch Baseball.\n",
            "Indians watch Cricket.\n"
          ],
          "name": "stdout"
        }
      ]
    },
    {
      "cell_type": "markdown",
      "metadata": {
        "id": "PLQ0OXwrFoX2",
        "colab_type": "text"
      },
      "source": [
        "\n",
        "\n",
        "Q.3 Write a function so that the columns of the output matrix are powers of the input vector. The order of the powers is determined by the increasing boolean argument. Specifically, when increasing is False, the i-th output column is the input vector raised element-wise to the power of N - i - 1.\n",
        "\n",
        "HINT: Such a matrix with a geometric progression in each row is named for Alexandre Theophile Vandermonde.\n",
        "\n"
      ]
    },
    {
      "cell_type": "code",
      "metadata": {
        "id": "j_Y_VertFj5U",
        "colab_type": "code",
        "colab": {}
      },
      "source": [
        "def getVanderMatrix(x, N=None, increasing=False):\n",
        "    '''Cusomt Vander matrix generator'''\n",
        "\n",
        "    # default condition if N is not given\n",
        "    if N is None:\n",
        "        N = len(x)\n",
        "        \n",
        "    matrix = []\n",
        "    # generating powers for each row based on N value in decreasing order\n",
        "    # which is a default case\n",
        "    pows = [(N-i-1) for N,i in zip([N]*N, range(N))]\n",
        "\n",
        "    # for increaing == True case\n",
        "    # reverse the pows array \n",
        "    if increasing:\n",
        "        pows = pows[::-1]\n",
        "\n",
        "    # iterate over x to generate and print each row\n",
        "    for ele in x:\n",
        "        row = [ele**pwr for pwr in pows] \n",
        "        print(row)\n",
        "        matrix.append(row)\n",
        "    return matrix"
      ],
      "execution_count": 4,
      "outputs": []
    },
    {
      "cell_type": "code",
      "metadata": {
        "id": "aJpmhRpIFyMs",
        "colab_type": "code",
        "colab": {
          "base_uri": "https://localhost:8080/",
          "height": 69
        },
        "outputId": "cb432928-789d-430d-c51a-373282d9eeca"
      },
      "source": [
        "inputVector = [1,2,3]\n",
        "no_of_ouput = 3\n",
        "result = getVanderMatrix(x=inputVector, N=no_of_ouput, increasing=True)\n",
        "\n"
      ],
      "execution_count": 5,
      "outputs": [
        {
          "output_type": "stream",
          "text": [
            "[1, 1, 1]\n",
            "[1, 2, 4]\n",
            "[1, 3, 9]\n"
          ],
          "name": "stdout"
        }
      ]
    },
    {
      "cell_type": "code",
      "metadata": {
        "id": "ZLHH1kPYF_w-",
        "colab_type": "code",
        "colab": {
          "base_uri": "https://localhost:8080/",
          "height": 69
        },
        "outputId": "898d7a33-dd0e-431b-85b8-2744a60131cd"
      },
      "source": [
        "inputVector = [1,2,3]\n",
        "no_of_ouput = 4\n",
        "result = getVanderMatrix(x=inputVector, N=no_of_ouput)\n",
        "\n"
      ],
      "execution_count": 6,
      "outputs": [
        {
          "output_type": "stream",
          "text": [
            "[1, 1, 1, 1]\n",
            "[8, 4, 2, 1]\n",
            "[27, 9, 3, 1]\n"
          ],
          "name": "stdout"
        }
      ]
    },
    {
      "cell_type": "code",
      "metadata": {
        "id": "VyFAsXOlGDrA",
        "colab_type": "code",
        "colab": {
          "base_uri": "https://localhost:8080/",
          "height": 86
        },
        "outputId": "e576297d-7ac3-4030-a8aa-f8f93379cf0d"
      },
      "source": [
        "inputVector = [1,2,3,5]\n",
        "result = getVanderMatrix(x=inputVector, increasing=True)"
      ],
      "execution_count": 8,
      "outputs": [
        {
          "output_type": "stream",
          "text": [
            "[1, 1, 1, 1]\n",
            "[1, 2, 4, 8]\n",
            "[1, 3, 9, 27]\n",
            "[1, 5, 25, 125]\n"
          ],
          "name": "stdout"
        }
      ]
    },
    {
      "cell_type": "code",
      "metadata": {
        "id": "ICaagxLQGICG",
        "colab_type": "code",
        "colab": {}
      },
      "source": [
        ""
      ],
      "execution_count": null,
      "outputs": []
    }
  ]
}